{
 "cells": [
  {
   "cell_type": "markdown",
   "metadata": {},
   "source": [
    "# Python Exercises, practice  \n",
    "\n",
    "__Student:__"
   ]
  },
  {
   "cell_type": "markdown",
   "metadata": {},
   "source": [
    "__1 exercise__\n",
    "\n",
    "print hello world"
   ]
  },
  {
   "cell_type": "markdown",
   "metadata": {},
   "source": [
    "__2 exercise__\n",
    "\n",
    "Let's create a variable with the name _variable_ and assign it the value \"hello world\"."
   ]
  },
  {
   "cell_type": "markdown",
   "metadata": {},
   "source": [
    "__3 exercise__\n",
    "\n",
    "Print the type of _variable_"
   ]
  },
  {
   "cell_type": "markdown",
   "metadata": {},
   "source": [
    "__4 exercise__\n",
    "\n",
    "Let's remove the word \" world\" from _variable_"
   ]
  },
  {
   "cell_type": "markdown",
   "metadata": {},
   "source": [
    "__2 exercise__\n",
    "\n",
    "Let's make a function which receives a list of number from 1 to 20 and prints only the number that are odd."
   ]
  },
  {
   "cell_type": "markdown",
   "metadata": {},
   "source": [
    "__3 exercise__\n",
    "\n",
    "Let's make a method in a Python file which receives two parameters:\n",
    "\n",
    "+ A list of integers \n",
    "+ An exponent number \n",
    "\n",
    "$b^{n} = b \\times \\dots \\times b$  \n",
    "\n",
    "The method allows us to calculate the exponentiation of each number in the list.\n",
    "\n",
    "We must import the file and use it to call the method"
   ]
  },
  {
   "cell_type": "markdown",
   "metadata": {},
   "source": [
    "__4 exercise__\n",
    "\n",
    "The idea is to do a dictionary _diccionario_ with the next keys and values:\n",
    "\n",
    "_variableUno_: [1,2,3,4]\n",
    "\n",
    "_variableDos_: [\"1\",\"a\",\"?\"]\n"
   ]
  },
  {
   "cell_type": "markdown",
   "metadata": {},
   "source": [
    "__5 exercise__\n",
    "\n",
    "Change the first letter of \"Spam\" to \"z\" "
   ]
  },
  {
   "cell_type": "markdown",
   "metadata": {},
   "source": [
    "__6 exercise__\n",
    "\n",
    "let's do a program which receives some parameters in order to calculate the perimeter of a rectangle.\n",
    "\n",
    "$p = 2x + 2y$"
   ]
  },
  {
   "cell_type": "markdown",
   "metadata": {},
   "source": [
    "__7 exercise__\n",
    "\n",
    "+ Create a class that saves the name of a person, his height in meters and weights in kilograms.\n",
    "+ This class must have a operation which calculate the Body mass index (BMI).\n",
    "+ Define a list of 5 persons and print their BMI. "
   ]
  }
 ],
 "metadata": {
  "kernelspec": {
   "display_name": "Python 3",
   "language": "python",
   "name": "python3"
  },
  "language_info": {
   "codemirror_mode": {
    "name": "ipython",
    "version": 3
   },
   "file_extension": ".py",
   "mimetype": "text/x-python",
   "name": "python",
   "nbconvert_exporter": "python",
   "pygments_lexer": "ipython3",
   "version": "3.6.8"
  }
 },
 "nbformat": 4,
 "nbformat_minor": 2
}
